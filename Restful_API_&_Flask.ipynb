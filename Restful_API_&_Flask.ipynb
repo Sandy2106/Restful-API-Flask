{
  "nbformat": 4,
  "nbformat_minor": 0,
  "metadata": {
    "colab": {
      "provenance": []
    },
    "kernelspec": {
      "name": "python3",
      "display_name": "Python 3"
    },
    "language_info": {
      "name": "python"
    }
  },
  "cells": [
    {
      "cell_type": "markdown",
      "source": [
        "# Restful API & Flask\n"
      ],
      "metadata": {
        "id": "ZNZubW_8r2Nh"
      }
    },
    {
      "cell_type": "markdown",
      "source": [
        "1. What is a RESTful API?\n",
        "- A RESTful API (Representational State Transfer API) is a web service that follows REST principles, using standard HTTP methods (GET, POST, PUT, DELETE) to interact with resources, typically represented as JSON.\n",
        "\n",
        "2. Explain the concept of API specification.\n",
        "- An API specification defines the endpoints, request/response formats, authentication methods, and error handling conventions for an API. Examples include OpenAPI (Swagger) and RAML.\n",
        "\n",
        "3. What is Flask, and why is it popular for building APIs?\n",
        "- Flask is a lightweight Python web framework used for building web applications and APIs. It is popular due to its simplicity, flexibility, and extensive ecosystem of extensions.\n",
        "\n",
        "4. What is routing in Flask?\n",
        "- Routing in Flask maps URLs to specific functions (view functions), allowing the application to respond to user requests based on the URL path.\n",
        "\n",
        "5. How do you create a simple Flask application?\n",
        "- from flask import Flask\n",
        "\n",
        "app = Flask(__name__)\n",
        "\n",
        "@app.route('/')\n",
        "def home():\n",
        "    return \"Hello, Flask!\"\n",
        "\n",
        "if __name__ == '__main__':\n",
        "    app.run(debug=True)\n",
        "\n",
        "6. What are HTTP methods used in RESTful APIs?\n",
        "-\n",
        " - GET - Retrieve data\n",
        " - POST - Create new data\n",
        " - PUT - Update existing data\n",
        " - DELETE - Remove data\n",
        " - PATCH - Partially update data\n",
        "\n",
        "7. What is the purpose of the @app.route() decorator in Flask?\n",
        "- It defines a route for a specific URL and links it to a Python function that handles requests to that URL.\n",
        "\n",
        "8. What is the difference between GET and POST HTTP methods?\n",
        "-\n",
        " - GET requests retrieve data and do not modify server state.\n",
        " - POST requests send data to the server to create a resource and can change the server state.\n",
        "\n",
        "9. How do you handle errors in Flask APIs?\n",
        "- Using error handlers and Flask's abort() function:\n",
        " - from flask import Flask, jsonify\n",
        "\n",
        " app = Flask(__name__)\n",
        "\n",
        " @app.errorhandler(404)\n",
        " def not_found(error):\n",
        " return jsonify({'error': 'Not found'}), 404\n",
        "\n",
        "10. How do you connect Flask to a SQL database?\n",
        "- Using Flask-SQLAlchemy:\n",
        " - from flask_sqlalchemy import SQLAlchemy\n",
        "   app.config['SQLALCHEMY_DATABASE_URI'] = 'sqlite:///database.db'\n",
        "   db = SQLAlchemy(app)\n",
        "\n",
        "11. What is the role of Flask-SQLAlchemy?\n",
        "- It provides an Object Relational Mapper (ORM) to interact with SQL databases using Python objects instead of raw SQL queries.\n",
        "\n",
        "12. What are Flask blueprints, and how are they useful?\n",
        "- Blueprints allow structuring Flask applications into smaller, modular components, making them easier to maintain.\n",
        "\n",
        "13. What is the purpose of Flask's request object?\n",
        "- It provides access to incoming request data, including JSON payloads, form data, and headers.\n",
        "\n",
        "14. How do you create a RESTful API endpoint using Flask?\n",
        "- from flask import Flask, jsonify\n",
        "\n",
        "app = Flask(__name__)\n",
        "\n",
        "@app.route('/api/data', methods=['GET'])\n",
        "def get_data():\n",
        "    return jsonify({\"message\": \"Hello, API\"})\n",
        "\n",
        "if __name__ == '__main__':\n",
        "    app.run(debug=True)\n",
        "\n",
        "15. What is the purpose of Flask's jsonify() function?\n",
        "- It converts Python dictionaries into JSON responses for API clients.\n",
        "\n",
        "16. Explain Flask’s url_for() function.\n",
        "- It generates URLs dynamically based on route names:\n",
        " - from flask import url_for\n",
        "  url_for('home')  \n",
        "\n",
        "17. How does Flask handle static files (CSS, JavaScript, etc.)?\n",
        "- Flask serves static files from the /static/ directory, accessible via url_for('static', filename='style.css').\n",
        "\n",
        "18. What is an API specification, and how does it help in building a Flask API?\n",
        "- It defines how an API should behave, ensuring consistency, documentation, and ease of integration.\n",
        "\n",
        "19. What are HTTP status codes, and why are they important in a Flask API?\n",
        "- They indicate the outcome of API requests (e.g., 200 OK, 400 Bad Request, 404 Not Found).\n",
        "\n",
        "20. How do you handle POST requests in Flask?\n",
        "- from flask import request\n",
        "\n",
        "@app.route('/api/data', methods=['POST'])\n",
        "def post_data():\n",
        "    data = request.json\n",
        "    return jsonify({\"received\": data}), 201\n",
        "\n",
        "21. How would you secure a Flask API?\n",
        "-\n",
        "  - Use authentication (JWT, OAuth)\n",
        "  - Validate and sanitize inputs\n",
        "  - Use HTTPS\n",
        "  - Rate limiting\n",
        "\n",
        "22. What is the significance of the Flask-RESTful extension?\n",
        "- It simplifies building RESTful APIs by providing class-based views and request parsing\n",
        "\n",
        "23. What is the role of Flask’s session object?\n",
        "- It stores user session data across requests using cookies."
      ],
      "metadata": {
        "id": "OVWY8AVOr804"
      }
    },
    {
      "cell_type": "markdown",
      "source": [
        "# Practical"
      ],
      "metadata": {
        "id": "LZQo3GNswuUx"
      }
    },
    {
      "cell_type": "markdown",
      "source": [
        "1. How do you create a basic Flask application?"
      ],
      "metadata": {
        "id": "5bUyh1U0wyLR"
      }
    },
    {
      "cell_type": "code",
      "source": [
        "from flask import Flask\n",
        "\n",
        "app = Flask(__name__)\n",
        "\n",
        "@app.route('/')\n",
        "def home():\n",
        "    return \"Hello, Flask!\"\n",
        "\n",
        "if __name__ == '__main__':\n",
        "    app.run(debug=True)\n"
      ],
      "metadata": {
        "colab": {
          "base_uri": "https://localhost:8080/"
        },
        "id": "ftNadNZ2xohn",
        "outputId": "3486e7ca-0202-4a73-d3fa-30293110132e"
      },
      "execution_count": null,
      "outputs": [
        {
          "output_type": "stream",
          "name": "stdout",
          "text": [
            " * Serving Flask app '__main__'\n",
            " * Debug mode: on\n"
          ]
        },
        {
          "output_type": "stream",
          "name": "stderr",
          "text": [
            "INFO:werkzeug:\u001b[31m\u001b[1mWARNING: This is a development server. Do not use it in a production deployment. Use a production WSGI server instead.\u001b[0m\n",
            " * Running on http://127.0.0.1:5000\n",
            "INFO:werkzeug:\u001b[33mPress CTRL+C to quit\u001b[0m\n",
            "INFO:werkzeug: * Restarting with stat\n"
          ]
        }
      ]
    },
    {
      "cell_type": "markdown",
      "source": [
        "2. How do you serve static files like images or CSS in Flask?"
      ],
      "metadata": {
        "id": "7KyWayCLxFo9"
      }
    },
    {
      "cell_type": "code",
      "source": [
        "<link rel=\"stylesheet\" href=\"{{ url_for('static', filename='style.css') }}\">\n",
        "<img src=\"{{ url_for('static', filename='image.jpg') }}\" alt=\"Image\">\n",
        "\n"
      ],
      "metadata": {
        "id": "6jhzyjATyJaD"
      },
      "execution_count": null,
      "outputs": []
    },
    {
      "cell_type": "markdown",
      "source": [
        "3. How do you define different routes with different HTTP methods in Flask?"
      ],
      "metadata": {
        "id": "vg9Va33EyY1J"
      }
    },
    {
      "cell_type": "code",
      "source": [
        "from flask import Flask, request\n",
        "\n",
        "app = Flask(__name__)\n",
        "\n",
        "@app.route('/example', methods=['GET', 'POST'])\n",
        "def example():\n",
        "    if request.method == 'POST':\n",
        "        return \"Handling POST request\"\n",
        "    return \"Handling GET request\"\n",
        "\n",
        "if __name__ == '__main__':\n",
        "    app.run(debug=True)\n"
      ],
      "metadata": {
        "id": "AYuapSbvyelJ"
      },
      "execution_count": null,
      "outputs": []
    },
    {
      "cell_type": "markdown",
      "source": [
        "4. How do you render HTML templates in Flask?"
      ],
      "metadata": {
        "id": "2ibr0yioyl4a"
      }
    },
    {
      "cell_type": "code",
      "source": [
        "# Create an HTML Template (templates/index.html)\n",
        "<!DOCTYPE html>\n",
        "<html lang=\"en\">\n",
        "<head>\n",
        "    <meta charset=\"UTF-8\">\n",
        "    <title>Flask Template</title>\n",
        "</head>\n",
        "<body>\n",
        "    <h1>Welcome to Flask</h1>\n",
        "</body>\n",
        "</html>\n"
      ],
      "metadata": {
        "id": "sY1CjKkGyuV7"
      },
      "execution_count": null,
      "outputs": []
    },
    {
      "cell_type": "code",
      "source": [
        "# Render the Template in Flask (app.py)\n",
        "from flask import Flask, render_template\n",
        "\n",
        "app = Flask(__name__)\n",
        "\n",
        "@app.route('/')\n",
        "def home():\n",
        "    return render_template('index.html')\n",
        "\n",
        "if __name__ == '__main__':\n",
        "    app.run(debug=True)\n"
      ],
      "metadata": {
        "id": "Juyk-_qgy4kT"
      },
      "execution_count": null,
      "outputs": []
    },
    {
      "cell_type": "markdown",
      "source": [
        "5. How can you generate URLs for routes in Flask using url_for?"
      ],
      "metadata": {
        "id": "T7fljxTHzB6S"
      }
    },
    {
      "cell_type": "code",
      "source": [
        "from flask import Flask, url_for\n",
        "\n",
        "app = Flask(__name__)\n",
        "\n",
        "@app.route('/profile/<username>')\n",
        "def profile(username):\n",
        "    return f\"Profile page of {username}\"\n",
        "\n",
        "with app.test_request_context():\n",
        "    print(url_for('profile', username='john'))  # Output: /profile/john\n"
      ],
      "metadata": {
        "id": "FFJgwjUazbqB"
      },
      "execution_count": null,
      "outputs": []
    },
    {
      "cell_type": "markdown",
      "source": [
        "6. How do you handle forms in Flask?"
      ],
      "metadata": {
        "id": "y_NBY-_MzcaN"
      }
    },
    {
      "cell_type": "code",
      "source": [
        "# 1. Create an HTML Form (templates/form.html)\n",
        "<!DOCTYPE html>\n",
        "<html lang=\"en\">\n",
        "<head>\n",
        "    <meta charset=\"UTF-8\">\n",
        "    <title>Flask Form</title>\n",
        "</head>\n",
        "<body>\n",
        "    <h1>Submit Your Name</h1>\n",
        "    <form action=\"/submit\" method=\"POST\">\n",
        "        <label for=\"name\">Name:</label>\n",
        "        <input type=\"text\" id=\"name\" name=\"name\" required>\n",
        "        <button type=\"submit\">Submit</button>\n",
        "    </form>\n",
        "</body>\n",
        "</html>\n",
        "\n",
        "#2.Handle the Form Submission in Flask (app.py)\n",
        "from flask import Flask, request, render_template\n",
        "\n",
        "app = Flask(__name__)\n",
        "\n",
        "@app.route('/')\n",
        "def form():\n",
        "    return render_template('form.html')\n",
        "\n",
        "@app.route('/submit', methods=['POST'])\n",
        "def submit():\n",
        "    name = request.form['name']  # Retrieve form data\n",
        "    return f\"Hello, {name}!\"\n",
        "\n",
        "if __name__ == '__main__':\n",
        "    app.run(debug=True)\n"
      ],
      "metadata": {
        "id": "3CZkcHDdzipq"
      },
      "execution_count": null,
      "outputs": []
    },
    {
      "cell_type": "markdown",
      "source": [
        "7. How can you validate form data in Flask?"
      ],
      "metadata": {
        "id": "ukp8vnywzwsC"
      }
    },
    {
      "cell_type": "code",
      "source": [
        "from flask_wtf import FlaskForm\n",
        "from wtforms import StringField, validators\n",
        "\n",
        "class MyForm(FlaskForm):\n",
        "    name = StringField('Name', [validators.DataRequired()])\n"
      ],
      "metadata": {
        "id": "lu1ZTDmAz2Lg"
      },
      "execution_count": null,
      "outputs": []
    },
    {
      "cell_type": "markdown",
      "source": [
        "8.  How do you manage sessions in Flask?"
      ],
      "metadata": {
        "id": "cDU4plw70CYa"
      }
    },
    {
      "cell_type": "code",
      "source": [
        "from flask import session\n",
        "\n",
        "app.secret_key = 'your_secret_key'\n",
        "\n",
        "@app.route('/login')\n",
        "def login():\n",
        "    session['user'] = 'John'\n",
        "    return \"Logged in\"\n",
        "\n",
        "@app.route('/logout')\n",
        "def logout():\n",
        "    session.pop('user', None)\n",
        "    return \"Logged out\"\n"
      ],
      "metadata": {
        "id": "qE7JyhXN0HiR"
      },
      "execution_count": null,
      "outputs": []
    },
    {
      "cell_type": "markdown",
      "source": [
        "9. How do you redirect to a different route in Flask?"
      ],
      "metadata": {
        "id": "wyraeZwR0IZB"
      }
    },
    {
      "cell_type": "code",
      "source": [
        "from flask import redirect\n",
        "\n",
        "@app.route('/old-page')\n",
        "def old_page():\n",
        "    return redirect('/new-page')\n"
      ],
      "metadata": {
        "id": "Pp5iND-T0MhM"
      },
      "execution_count": null,
      "outputs": []
    },
    {
      "cell_type": "markdown",
      "source": [
        "10. How do you handle errors in Flask (e.g., 404)?"
      ],
      "metadata": {
        "id": "VehR-qZn0Phc"
      }
    },
    {
      "cell_type": "code",
      "source": [
        "@app.errorhandler(404)\n",
        "def not_found(error):\n",
        "    return \"Page not found\", 404\n"
      ],
      "metadata": {
        "id": "7gQYfvrU0W_W"
      },
      "execution_count": null,
      "outputs": []
    },
    {
      "cell_type": "markdown",
      "source": [
        "11. How do you structure a Flask app using Blueprints?"
      ],
      "metadata": {
        "id": "Z3XR_BaZ0Xvo"
      }
    },
    {
      "cell_type": "code",
      "source": [
        "# Create a blueprint.py file:\n",
        "from flask import Blueprint\n",
        "\n",
        "my_blueprint = Blueprint('my_blueprint', __name__)\n",
        "\n",
        "@my_blueprint.route('/hello')\n",
        "def hello():\n",
        "    return \"Hello from Blueprint!\"\n"
      ],
      "metadata": {
        "id": "lj7N-Dyo0czm"
      },
      "execution_count": null,
      "outputs": []
    },
    {
      "cell_type": "code",
      "source": [
        "# Register the blueprint in the main app:\n",
        "from flask import Flask\n",
        "from blueprint import my_blueprint\n",
        "\n",
        "app = Flask(__name__)\n",
        "app.register_blueprint(my_blueprint)\n"
      ],
      "metadata": {
        "id": "k8G9ViAE0dGV"
      },
      "execution_count": null,
      "outputs": []
    },
    {
      "cell_type": "markdown",
      "source": [
        "12. How do you define a custom Jinja filter in Flask?"
      ],
      "metadata": {
        "id": "Lsfi4yAp0zx4"
      }
    },
    {
      "cell_type": "code",
      "source": [
        "@app.template_filter('reverse')\n",
        "def reverse_filter(s):\n",
        "    return s[::-1]\n"
      ],
      "metadata": {
        "id": "sHZ8-e650yNp"
      },
      "execution_count": null,
      "outputs": []
    },
    {
      "cell_type": "markdown",
      "source": [
        "13. How can you redirect with query parameters in Flask?"
      ],
      "metadata": {
        "id": "hOo3Cixn0_tq"
      }
    },
    {
      "cell_type": "code",
      "source": [
        "@app.route('/redirect-example')\n",
        "def redirect_example():\n",
        "    return redirect(url_for('home', msg='Hello'))\n"
      ],
      "metadata": {
        "id": "84pwbVYY0dBd"
      },
      "execution_count": null,
      "outputs": []
    },
    {
      "cell_type": "markdown",
      "source": [
        "14. How do you return JSON responses in Flask?"
      ],
      "metadata": {
        "id": "2dyrJuu11Etn"
      }
    },
    {
      "cell_type": "code",
      "source": [
        "from flask import jsonify\n",
        "\n",
        "@app.route('/api/data')\n",
        "def api_data():\n",
        "    return jsonify({\"message\": \"Hello, API\"})\n"
      ],
      "metadata": {
        "id": "-EYVaAmN1JEJ"
      },
      "execution_count": null,
      "outputs": []
    },
    {
      "cell_type": "markdown",
      "source": [
        "15. How do you capture URL parameters in Flask?"
      ],
      "metadata": {
        "id": "nmOcDSvs1Meb"
      }
    },
    {
      "cell_type": "code",
      "source": [
        "@app.route('/user/<username>')\n",
        "def show_user(username):\n",
        "    return f\"User: {username}\"\n"
      ],
      "metadata": {
        "id": "CvZFo5E01RcE"
      },
      "execution_count": null,
      "outputs": []
    }
  ]
}